{
 "cells": [
  {
   "cell_type": "code",
   "execution_count": 12,
   "id": "537e7758",
   "metadata": {},
   "outputs": [],
   "source": [
    "from tensorflow import keras\n",
    "from keras.models import Sequential\n",
    "from keras.layers.merge import concatenate\n",
    "from keras.models import Model\n",
    "from keras.layers import Input, Dense, Conv2D, MaxPool2D , Flatten, Dropout, GlobalAveragePooling2D, AveragePooling2D, MaxPooling2D\n",
    "from keras.preprocessing.image import ImageDataGenerator\n",
    "from keras.callbacks import ModelCheckpoint, EarlyStopping\n",
    "from keras.optimizers import Adam\n",
    "from sklearn.model_selection import train_test_split\n",
    "import numpy as np\n",
    "import pandas as pd\n",
    "import tensorflow as tf"
   ]
  },
  {
   "cell_type": "code",
   "execution_count": 13,
   "id": "9afbcda1",
   "metadata": {},
   "outputs": [
    {
     "data": {
      "text/plain": [
       "[PhysicalDevice(name='/physical_device:GPU:0', device_type='GPU')]"
      ]
     },
     "execution_count": 13,
     "metadata": {},
     "output_type": "execute_result"
    }
   ],
   "source": [
    "\n",
    "tf.config.list_physical_devices('GPU')\n",
    "#print(\"GPUs: \", len(tf.config.experimental.list_physical_devices('GPU')))"
   ]
  },
  {
   "cell_type": "code",
   "execution_count": 14,
   "id": "1abed0e8",
   "metadata": {},
   "outputs": [
    {
     "name": "stdout",
     "output_type": "stream",
     "text": [
      "GPUs:  1\n"
     ]
    }
   ],
   "source": [
    "print(\"GPUs: \", len(tf.config.experimental.list_physical_devices('GPU')))"
   ]
  },
  {
   "cell_type": "code",
   "execution_count": 15,
   "id": "a89dc531",
   "metadata": {},
   "outputs": [],
   "source": [
    "train = pd.read_csv('train_metadata.csv')\n",
    "test = pd.read_csv('test_metadata.csv')\n",
    "#submission = pd.read_csv('sample_submission.csv')\n",
    "\n",
    "train_dir = 'train/'\n",
    "test_dir = 'test/'"
   ]
  },
  {
   "cell_type": "code",
   "execution_count": 16,
   "id": "5cce0f00",
   "metadata": {},
   "outputs": [],
   "source": [
    "label = []\n",
    "train_data = []\n",
    "for i in range(train.shape[0]):\n",
    "    train_data.append(train_dir + train['image_name'].iloc[i] + '.jpg')\n",
    "    label.append(train['diagnosis'].iloc[i])\n",
    "    \n",
    "test_data = []\n",
    "for i in range(test.shape[0]):\n",
    "    test_data.append(test_dir + test['image'].iloc[i] + '.jpg')"
   ]
  },
  {
   "cell_type": "code",
   "execution_count": 17,
   "id": "829ccff7",
   "metadata": {
    "scrolled": true
   },
   "outputs": [
    {
     "name": "stdout",
     "output_type": "stream",
     "text": [
      "MultiIndex([('atypical melanocytic proliferation',),\n",
      "            (               'cafe-au-lait macule',),\n",
      "            (                       'lentigo NOS',),\n",
      "            (               'lichenoid keratosis',),\n",
      "            (                          'melanoma',),\n",
      "            (                             'nevus',),\n",
      "            (              'seborrheic keratosis',),\n",
      "            (                     'solar lentigo',),\n",
      "            (                           'unknown',)],\n",
      "           )\n"
     ]
    }
   ],
   "source": [
    "from sklearn.preprocessing import OneHotEncoder\n",
    "one_hot_encoder = OneHotEncoder(sparse=False)\n",
    "label_df = pd.DataFrame(label, columns = ['diagnosis'])\n",
    "one_hot_encoder.fit(label_df)\n",
    "\n",
    "label_df_encoded = one_hot_encoder.transform(label_df)\n",
    "label_df_encoded = pd.DataFrame(data=label_df_encoded, columns=one_hot_encoder.categories_)\n",
    "print(label_df_encoded.columns)"
   ]
  },
  {
   "cell_type": "code",
   "execution_count": 18,
   "id": "48eca7f0",
   "metadata": {},
   "outputs": [
    {
     "name": "stdout",
     "output_type": "stream",
     "text": [
      "Index([                               'images',\n",
      "       ('atypical melanocytic proliferation',),\n",
      "                      ('cafe-au-lait macule',),\n",
      "                              ('lentigo NOS',),\n",
      "                      ('lichenoid keratosis',),\n",
      "                                 ('melanoma',),\n",
      "                                    ('nevus',),\n",
      "                     ('seborrheic keratosis',),\n",
      "                            ('solar lentigo',),\n",
      "                                  ('unknown',)],\n",
      "      dtype='object')\n"
     ]
    }
   ],
   "source": [
    "df_train = pd.DataFrame(train_data)\n",
    "df_train.columns = ['images']\n",
    "df_train = pd.concat([df_train, label_df_encoded], axis = 1)\n",
    "print(df_train.columns)\n",
    "df_test = pd.DataFrame(test_data)\n",
    "df_test.columns = ['images']"
   ]
  },
  {
   "cell_type": "code",
   "execution_count": 19,
   "id": "c43c0573",
   "metadata": {},
   "outputs": [],
   "source": [
    "X_train, X_test, y_train, y_test = train_test_split(df_train.iloc[:, 0], df_train.iloc[:,1::], test_size = 0.3, random_state = 42)\n",
    "\n",
    "train = pd.DataFrame(X_train)\n",
    "train.columns = ['images']\n",
    "train = pd.concat([train, y_train], axis = 1)\n",
    "\n",
    "test = pd.DataFrame(X_test)\n",
    "test.columns = ['images']\n",
    "test = pd.concat([test, y_test], axis = 1)"
   ]
  },
  {
   "cell_type": "code",
   "execution_count": 20,
   "id": "f21150b1",
   "metadata": {},
   "outputs": [
    {
     "data": {
      "text/plain": [
       "Index([('atypical melanocytic proliferation',),\n",
       "                      ('cafe-au-lait macule',),\n",
       "                              ('lentigo NOS',),\n",
       "                      ('lichenoid keratosis',),\n",
       "                                 ('melanoma',),\n",
       "                                    ('nevus',),\n",
       "                     ('seborrheic keratosis',),\n",
       "                            ('solar lentigo',),\n",
       "                                  ('unknown',)],\n",
       "      dtype='object')"
      ]
     },
     "execution_count": 20,
     "metadata": {},
     "output_type": "execute_result"
    }
   ],
   "source": [
    "train.columns[1:]"
   ]
  },
  {
   "cell_type": "code",
   "execution_count": 21,
   "id": "60c6e3e2",
   "metadata": {},
   "outputs": [
    {
     "name": "stdout",
     "output_type": "stream",
     "text": [
      "Found 23188 validated image filenames.\n",
      "Found 9938 validated image filenames.\n"
     ]
    }
   ],
   "source": [
    "train_datagen = ImageDataGenerator(rescale=1./255,rotation_range=50,\n",
    "                                   zoom_range = 0.3,\n",
    "                                   width_shift_range=0.2,\n",
    "                                   height_shift_range=0.2,\n",
    "                                   shear_range = 0.2,\n",
    "                                   horizontal_flip=True,\n",
    "                                   fill_mode = 'nearest')\n",
    "test_datagen = ImageDataGenerator(rescale=1./255)\n",
    "\n",
    "train_generator = train_datagen.flow_from_dataframe(\n",
    "    train,\n",
    "    x_col=train.columns[0],\n",
    "    y_col=train.columns[1:],\n",
    "    target_size=(224, 224),\n",
    "    batch_size=8,\n",
    "    shuffle=True,\n",
    "    class_mode='raw')\n",
    "\n",
    "test_generator = test_datagen.flow_from_dataframe(\n",
    "    test,\n",
    "    x_col=test.columns[0],\n",
    "    y_col=test.columns[1:],\n",
    "    target_size=(224, 224),\n",
    "    shuffle=False,\n",
    "    batch_size=8,\n",
    "    class_mode='raw')"
   ]
  },
  {
   "cell_type": "code",
   "execution_count": 22,
   "id": "875b93e4",
   "metadata": {},
   "outputs": [
    {
     "data": {
      "text/plain": [
       "'model = keras.models.load_model(\"Models/vgg16_1.h5\")\\nscores = model.evaluate(test_generator)\\nprint(\"%s%s: %.2f%%\" % (\"evaluate \",model.metrics_names[1], scores[1]*100))\\n\\nscores = model.evaluate_generator(test_generator)\\nprint(\"%s%s: %.2f%%\" % (\"evaluate_generator \",model.metrics_names[1], scores[1]*100))'"
      ]
     },
     "execution_count": 22,
     "metadata": {},
     "output_type": "execute_result"
    }
   ],
   "source": [
    "#Evaluate\n",
    "\"\"\"model = keras.models.load_model(\"Models/vgg16_1.h5\")\n",
    "scores = model.evaluate(test_generator)\n",
    "print(\"%s%s: %.2f%%\" % (\"evaluate \",model.metrics_names[1], scores[1]*100))\n",
    "\n",
    "scores = model.evaluate_generator(test_generator)\n",
    "print(\"%s%s: %.2f%%\" % (\"evaluate_generator \",model.metrics_names[1], scores[1]*100))\"\"\""
   ]
  },
  {
   "cell_type": "code",
   "execution_count": 23,
   "id": "71ed6f6d",
   "metadata": {},
   "outputs": [
    {
     "name": "stdout",
     "output_type": "stream",
     "text": [
      "1243/1243 [==============================] - 345s 278ms/step - loss: 0.3043 - accuracy: 0.9417\n",
      "evaluate accuracy: 94.17%\n"
     ]
    },
    {
     "name": "stderr",
     "output_type": "stream",
     "text": [
      "/home/deeplab/anaconda3/envs/tensorflow/lib/python3.8/site-packages/tensorflow/python/keras/engine/training.py:1877: UserWarning: `Model.evaluate_generator` is deprecated and will be removed in a future version. Please use `Model.evaluate`, which supports generators.\n",
      "  warnings.warn('`Model.evaluate_generator` is deprecated and '\n"
     ]
    },
    {
     "name": "stdout",
     "output_type": "stream",
     "text": [
      "evaluate_generator accuracy: 94.17%\n"
     ]
    }
   ],
   "source": [
    "#Evaluate\n",
    "model = keras.models.load_model(\"Models/vgg19.h5\")\n",
    "scores = model.evaluate(test_generator)\n",
    "print(\"%s%s: %.2f%%\" % (\"evaluate \",model.metrics_names[1], scores[1]*100))\n",
    "\n",
    "scores = model.evaluate_generator(test_generator)\n",
    "print(\"%s%s: %.2f%%\" % (\"evaluate_generator \",model.metrics_names[1], scores[1]*100))"
   ]
  },
  {
   "cell_type": "code",
   "execution_count": 24,
   "id": "cb9977f6",
   "metadata": {},
   "outputs": [
    {
     "name": "stdout",
     "output_type": "stream",
     "text": [
      "1243/1243 [==============================] - 335s 268ms/step - loss: 0.2730 - accuracy: 0.9288\n",
      "evaluate accuracy: 92.88%\n",
      "evaluate_generator accuracy: 92.88%\n"
     ]
    }
   ],
   "source": [
    "#Evaluate\n",
    "model = keras.models.load_model(\"Models/dense-169.h5\")\n",
    "scores = model.evaluate(test_generator)\n",
    "print(\"%s%s: %.2f%%\" % (\"evaluate \",model.metrics_names[1], scores[1]*100))\n",
    "\n",
    "scores = model.evaluate_generator(test_generator)\n",
    "print(\"%s%s: %.2f%%\" % (\"evaluate_generator \",model.metrics_names[1], scores[1]*100))"
   ]
  },
  {
   "cell_type": "code",
   "execution_count": 25,
   "id": "d92179be",
   "metadata": {},
   "outputs": [
    {
     "name": "stdout",
     "output_type": "stream",
     "text": [
      "1243/1243 [==============================] - 346s 277ms/step - loss: 0.3105 - accuracy: 0.9175\n",
      "evaluate accuracy: 91.75%\n",
      "evaluate_generator accuracy: 91.75%\n"
     ]
    }
   ],
   "source": [
    "#Evaluate\n",
    "model = keras.models.load_model(\"Models/dense-201.h5\")\n",
    "scores = model.evaluate(test_generator)\n",
    "print(\"%s%s: %.2f%%\" % (\"evaluate \",model.metrics_names[1], scores[1]*100))\n",
    "\n",
    "scores = model.evaluate_generator(test_generator)\n",
    "print(\"%s%s: %.2f%%\" % (\"evaluate_generator \",model.metrics_names[1], scores[1]*100))"
   ]
  },
  {
   "cell_type": "code",
   "execution_count": 26,
   "id": "e678e9bc",
   "metadata": {},
   "outputs": [
    {
     "name": "stdout",
     "output_type": "stream",
     "text": [
      "1243/1243 [==============================] - 323s 260ms/step - loss: 0.2334 - accuracy: 0.9492\n",
      "evaluate accuracy: 94.92%\n",
      "evaluate_generator accuracy: 94.92%\n"
     ]
    }
   ],
   "source": [
    "#Evaluate\n",
    "model = keras.models.load_model(\"Models/resnet-50.h5\")\n",
    "scores = model.evaluate(test_generator)\n",
    "print(\"%s%s: %.2f%%\" % (\"evaluate \",model.metrics_names[1], scores[1]*100))\n",
    "\n",
    "scores = model.evaluate_generator(test_generator)\n",
    "print(\"%s%s: %.2f%%\" % (\"evaluate_generator \",model.metrics_names[1], scores[1]*100))"
   ]
  },
  {
   "cell_type": "code",
   "execution_count": 27,
   "id": "c168a0da",
   "metadata": {},
   "outputs": [
    {
     "name": "stdout",
     "output_type": "stream",
     "text": [
      "1243/1243 [==============================] - 321s 257ms/step - loss: 0.2857 - accuracy: 0.9463\n",
      "evaluate accuracy: 94.63%\n",
      "evaluate_generator accuracy: 94.63%\n"
     ]
    }
   ],
   "source": [
    "#Evaluate\n",
    "model = keras.models.load_model(\"Models/resnet-152.h5\")\n",
    "scores = model.evaluate(test_generator)\n",
    "print(\"%s%s: %.2f%%\" % (\"evaluate \",model.metrics_names[1], scores[1]*100))\n",
    "\n",
    "scores = model.evaluate_generator(test_generator)\n",
    "print(\"%s%s: %.2f%%\" % (\"evaluate_generator \",model.metrics_names[1], scores[1]*100))"
   ]
  },
  {
   "cell_type": "code",
   "execution_count": 28,
   "id": "9bb9855a",
   "metadata": {},
   "outputs": [
    {
     "name": "stdout",
     "output_type": "stream",
     "text": [
      "Found 23188 validated image filenames.\n",
      "Found 9938 validated image filenames.\n"
     ]
    }
   ],
   "source": [
    "train_datagen = ImageDataGenerator(rescale=1./255,rotation_range=50,\n",
    "                                   zoom_range = 0.3,\n",
    "                                   width_shift_range=0.2,\n",
    "                                   height_shift_range=0.2,\n",
    "                                   shear_range = 0.2,\n",
    "                                   horizontal_flip=True,\n",
    "                                   fill_mode = 'nearest')\n",
    "test_datagen = ImageDataGenerator(rescale=1./255)\n",
    "\n",
    "train_generator = train_datagen.flow_from_dataframe(\n",
    "    train,\n",
    "    x_col=train.columns[0],\n",
    "    y_col=train.columns[1:],\n",
    "    target_size=(300, 300),\n",
    "    batch_size=8,\n",
    "    shuffle=True,\n",
    "    class_mode='raw')\n",
    "\n",
    "test_generator = test_datagen.flow_from_dataframe(\n",
    "    test,\n",
    "    x_col=test.columns[0],\n",
    "    y_col=test.columns[1:],\n",
    "    target_size=(300, 300),\n",
    "    shuffle=False,\n",
    "    batch_size=8,\n",
    "    class_mode='raw')"
   ]
  },
  {
   "cell_type": "code",
   "execution_count": 29,
   "id": "ee158069",
   "metadata": {},
   "outputs": [
    {
     "name": "stdout",
     "output_type": "stream",
     "text": [
      "1243/1243 [==============================] - 327s 262ms/step - loss: 0.2395 - accuracy: 0.9415\n",
      "evaluate accuracy: 94.15%\n",
      "evaluate_generator accuracy: 94.15%\n"
     ]
    }
   ],
   "source": [
    "#Evaluate\n",
    "model = keras.models.load_model(\"Models/efficientB3_1.h5\")\n",
    "scores = model.evaluate(test_generator)\n",
    "print(\"%s%s: %.2f%%\" % (\"evaluate \",model.metrics_names[1], scores[1]*100))\n",
    "\n",
    "scores = model.evaluate_generator(test_generator)\n",
    "print(\"%s%s: %.2f%%\" % (\"evaluate_generator \",model.metrics_names[1], scores[1]*100))"
   ]
  }
 ],
 "metadata": {
  "kernelspec": {
   "display_name": "Python 3 (ipykernel)",
   "language": "python",
   "name": "python3"
  },
  "language_info": {
   "codemirror_mode": {
    "name": "ipython",
    "version": 3
   },
   "file_extension": ".py",
   "mimetype": "text/x-python",
   "name": "python",
   "nbconvert_exporter": "python",
   "pygments_lexer": "ipython3",
   "version": "3.8.12"
  }
 },
 "nbformat": 4,
 "nbformat_minor": 5
}
