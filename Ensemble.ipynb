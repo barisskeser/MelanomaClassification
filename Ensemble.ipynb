{
 "cells": [
  {
   "cell_type": "code",
   "execution_count": 1,
   "id": "537e7758",
   "metadata": {},
   "outputs": [
    {
     "name": "stderr",
     "output_type": "stream",
     "text": [
      "2022-01-11 18:44:20.133022: I tensorflow/stream_executor/platform/default/dso_loader.cc:49] Successfully opened dynamic library libcudart.so.11.0\n",
      "Using TensorFlow backend.\n"
     ]
    }
   ],
   "source": [
    "from tensorflow import keras\n",
    "from keras.models import Sequential\n",
    "from keras.layers.merge import concatenate\n",
    "from keras.models import Model\n",
    "from keras.layers import Input, Dense, Conv2D, MaxPool2D , Flatten, Dropout, GlobalAveragePooling2D, AveragePooling2D, MaxPooling2D\n",
    "from keras.preprocessing.image import ImageDataGenerator\n",
    "from keras.callbacks import ModelCheckpoint, EarlyStopping\n",
    "from keras.optimizers import Adam\n",
    "from sklearn.model_selection import train_test_split\n",
    "import numpy as np\n",
    "import pandas as pd\n",
    "import tensorflow as tf"
   ]
  },
  {
   "cell_type": "code",
   "execution_count": 2,
   "id": "9afbcda1",
   "metadata": {},
   "outputs": [
    {
     "name": "stderr",
     "output_type": "stream",
     "text": [
      "2022-01-11 18:44:21.617263: I tensorflow/compiler/jit/xla_cpu_device.cc:41] Not creating XLA devices, tf_xla_enable_xla_devices not set\n",
      "2022-01-11 18:44:21.617977: I tensorflow/stream_executor/platform/default/dso_loader.cc:49] Successfully opened dynamic library libcuda.so.1\n",
      "2022-01-11 18:44:21.666338: I tensorflow/stream_executor/cuda/cuda_gpu_executor.cc:941] successful NUMA node read from SysFS had negative value (-1), but there must be at least one NUMA node, so returning NUMA node zero\n",
      "2022-01-11 18:44:21.666810: I tensorflow/core/common_runtime/gpu/gpu_device.cc:1720] Found device 0 with properties: \n",
      "pciBusID: 0000:01:00.0 name: GeForce GTX 1080 Ti computeCapability: 6.1\n",
      "coreClock: 1.582GHz coreCount: 28 deviceMemorySize: 10.91GiB deviceMemoryBandwidth: 451.17GiB/s\n",
      "2022-01-11 18:44:21.666835: I tensorflow/stream_executor/platform/default/dso_loader.cc:49] Successfully opened dynamic library libcudart.so.11.0\n",
      "2022-01-11 18:44:21.668531: I tensorflow/stream_executor/platform/default/dso_loader.cc:49] Successfully opened dynamic library libcublas.so.11\n",
      "2022-01-11 18:44:21.668574: I tensorflow/stream_executor/platfo"
     ]
    },
    {
     "data": {
      "text/plain": [
       "[PhysicalDevice(name='/physical_device:GPU:0', device_type='GPU')]"
      ]
     },
     "execution_count": 2,
     "metadata": {},
     "output_type": "execute_result"
    },
    {
     "name": "stderr",
     "output_type": "stream",
     "text": [
      "rm/default/dso_loader.cc:49] Successfully opened dynamic library libcublasLt.so.11\n",
      "2022-01-11 18:44:21.669245: I tensorflow/stream_executor/platform/default/dso_loader.cc:49] Successfully opened dynamic library libcufft.so.10\n",
      "2022-01-11 18:44:21.669401: I tensorflow/stream_executor/platform/default/dso_loader.cc:49] Successfully opened dynamic library libcurand.so.10\n",
      "2022-01-11 18:44:21.671057: I tensorflow/stream_executor/platform/default/dso_loader.cc:49] Successfully opened dynamic library libcusolver.so.10\n",
      "2022-01-11 18:44:21.671453: I tensorflow/stream_executor/platform/default/dso_loader.cc:49] Successfully opened dynamic library libcusparse.so.11\n",
      "2022-01-11 18:44:21.671557: I tensorflow/stream_executor/platform/default/dso_loader.cc:49] Successfully opened dynamic library libcudnn.so.8\n",
      "2022-01-11 18:44:21.671637: I tensorflow/stream_executor/cuda/cuda_gpu_executor.cc:941] successful NUMA node read from SysFS had negative value (-1), but there must be at least one NUMA node, so returning NUMA node zero\n",
      "2022-01-11 18:44:21.672007: I tensorflow/stream_executor/cuda/cuda_gpu_executor.cc:941] successful NUMA node read from SysFS had negative value (-1), but there must be at least one NUMA node, so returning NUMA node zero\n",
      "2022-01-11 18:44:21.672389: I tensorflow/core/common_runtime/gpu/gpu_device.cc:1862] Adding visible gpu devices: 0\n"
     ]
    }
   ],
   "source": [
    "\n",
    "tf.config.list_physical_devices('GPU')\n",
    "#print(\"GPUs: \", len(tf.config.experimental.list_physical_devices('GPU')))"
   ]
  },
  {
   "cell_type": "code",
   "execution_count": 3,
   "id": "1abed0e8",
   "metadata": {},
   "outputs": [
    {
     "name": "stdout",
     "output_type": "stream",
     "text": [
      "GPUs:  1\n"
     ]
    }
   ],
   "source": [
    "print(\"GPUs: \", len(tf.config.experimental.list_physical_devices('GPU')))"
   ]
  },
  {
   "cell_type": "code",
   "execution_count": 4,
   "id": "a89dc531",
   "metadata": {},
   "outputs": [],
   "source": [
    "train = pd.read_csv('train_metadata.csv')\n",
    "test = pd.read_csv('test_metadata.csv')\n",
    "#submission = pd.read_csv('sample_submission.csv')\n",
    "\n",
    "train_dir = 'train/'\n",
    "test_dir = 'test/'"
   ]
  },
  {
   "cell_type": "code",
   "execution_count": 5,
   "id": "5cce0f00",
   "metadata": {},
   "outputs": [],
   "source": [
    "label = []\n",
    "train_data = []\n",
    "for i in range(train.shape[0]):\n",
    "    train_data.append(train_dir + train['image_name'].iloc[i] + '.jpg')\n",
    "    label.append(train['diagnosis'].iloc[i])\n",
    "    \n",
    "test_data = []\n",
    "for i in range(test.shape[0]):\n",
    "    test_data.append(test_dir + test['image'].iloc[i] + '.jpg')"
   ]
  },
  {
   "cell_type": "code",
   "execution_count": 6,
   "id": "829ccff7",
   "metadata": {
    "scrolled": true
   },
   "outputs": [
    {
     "name": "stdout",
     "output_type": "stream",
     "text": [
      "MultiIndex([('atypical melanocytic proliferation',),\n",
      "            (               'cafe-au-lait macule',),\n",
      "            (                       'lentigo NOS',),\n",
      "            (               'lichenoid keratosis',),\n",
      "            (                          'melanoma',),\n",
      "            (                             'nevus',),\n",
      "            (              'seborrheic keratosis',),\n",
      "            (                     'solar lentigo',),\n",
      "            (                           'unknown',)],\n",
      "           )\n"
     ]
    }
   ],
   "source": [
    "from sklearn.preprocessing import OneHotEncoder\n",
    "one_hot_encoder = OneHotEncoder(sparse=False)\n",
    "label_df = pd.DataFrame(label, columns = ['diagnosis'])\n",
    "one_hot_encoder.fit(label_df)\n",
    "\n",
    "label_df_encoded = one_hot_encoder.transform(label_df)\n",
    "label_df_encoded = pd.DataFrame(data=label_df_encoded, columns=one_hot_encoder.categories_)\n",
    "print(label_df_encoded.columns)"
   ]
  },
  {
   "cell_type": "code",
   "execution_count": 7,
   "id": "48eca7f0",
   "metadata": {},
   "outputs": [
    {
     "name": "stdout",
     "output_type": "stream",
     "text": [
      "Index([                               'images',\n",
      "       ('atypical melanocytic proliferation',),\n",
      "                      ('cafe-au-lait macule',),\n",
      "                              ('lentigo NOS',),\n",
      "                      ('lichenoid keratosis',),\n",
      "                                 ('melanoma',),\n",
      "                                    ('nevus',),\n",
      "                     ('seborrheic keratosis',),\n",
      "                            ('solar lentigo',),\n",
      "                                  ('unknown',)],\n",
      "      dtype='object')\n"
     ]
    }
   ],
   "source": [
    "df_train = pd.DataFrame(train_data)\n",
    "df_train.columns = ['images']\n",
    "df_train = pd.concat([df_train, label_df_encoded], axis = 1)\n",
    "print(df_train.columns)\n",
    "df_test = pd.DataFrame(test_data)\n",
    "df_test.columns = ['images']"
   ]
  },
  {
   "cell_type": "code",
   "execution_count": 8,
   "id": "c43c0573",
   "metadata": {},
   "outputs": [],
   "source": [
    "X_train, X_test, y_train, y_test = train_test_split(df_train.iloc[:, 0], df_train.iloc[:,1::], test_size = 0.3, random_state = 42)\n",
    "\n",
    "train = pd.DataFrame(X_train)\n",
    "train.columns = ['images']\n",
    "train = pd.concat([train, y_train], axis = 1)\n",
    "\n",
    "test = pd.DataFrame(X_test)\n",
    "test.columns = ['images']\n",
    "test = pd.concat([test, y_test], axis = 1)"
   ]
  },
  {
   "cell_type": "code",
   "execution_count": 9,
   "id": "f21150b1",
   "metadata": {},
   "outputs": [
    {
     "data": {
      "text/plain": [
       "Index([('atypical melanocytic proliferation',),\n",
       "                      ('cafe-au-lait macule',),\n",
       "                              ('lentigo NOS',),\n",
       "                      ('lichenoid keratosis',),\n",
       "                                 ('melanoma',),\n",
       "                                    ('nevus',),\n",
       "                     ('seborrheic keratosis',),\n",
       "                            ('solar lentigo',),\n",
       "                                  ('unknown',)],\n",
       "      dtype='object')"
      ]
     },
     "execution_count": 9,
     "metadata": {},
     "output_type": "execute_result"
    }
   ],
   "source": [
    "train.columns[1:]"
   ]
  },
  {
   "cell_type": "code",
   "execution_count": 10,
   "id": "60c6e3e2",
   "metadata": {},
   "outputs": [
    {
     "name": "stdout",
     "output_type": "stream",
     "text": [
      "Found 23188 validated image filenames.\n",
      "Found 9938 validated image filenames.\n",
      "Found 23188 validated image filenames.\n",
      "Found 9938 validated image filenames.\n"
     ]
    }
   ],
   "source": [
    "train_datagen = ImageDataGenerator(rescale=1./255,rotation_range=50,\n",
    "                                   zoom_range = 0.3,\n",
    "                                   width_shift_range=0.2,\n",
    "                                   height_shift_range=0.2,\n",
    "                                   shear_range = 0.2,\n",
    "                                   horizontal_flip=True,\n",
    "                                   fill_mode = 'nearest')\n",
    "test_datagen = ImageDataGenerator(rescale=1./255)\n",
    "\n",
    "train_generator = train_datagen.flow_from_dataframe(\n",
    "    train,\n",
    "    x_col=train.columns[0],\n",
    "    y_col=train.columns[1:],\n",
    "    target_size=(224, 224),\n",
    "    batch_size=8,\n",
    "    shuffle=True,\n",
    "    class_mode='raw')\n",
    "\n",
    "test_generator = test_datagen.flow_from_dataframe(\n",
    "    test,\n",
    "    x_col=test.columns[0],\n",
    "    y_col=test.columns[1:],\n",
    "    target_size=(224, 224),\n",
    "    shuffle=False,\n",
    "    batch_size=8,\n",
    "    class_mode='raw')\n",
    "\n",
    "train_generator_effB3 = train_datagen.flow_from_dataframe(\n",
    "    train,\n",
    "    x_col=train.columns[0],\n",
    "    y_col=train.columns[1:],\n",
    "    target_size=(300, 300),\n",
    "    batch_size=8,\n",
    "    shuffle=True,\n",
    "    class_mode='raw')\n",
    "\n",
    "test_generator_effB3 = test_datagen.flow_from_dataframe(\n",
    "    test,\n",
    "    x_col=test.columns[0],\n",
    "    y_col=test.columns[1:],\n",
    "    target_size=(300, 300),\n",
    "    shuffle=False,\n",
    "    batch_size=8,\n",
    "    class_mode='raw')"
   ]
  },
  {
   "cell_type": "code",
   "execution_count": 11,
   "id": "fa8292e2",
   "metadata": {},
   "outputs": [
    {
     "name": "stderr",
     "output_type": "stream",
     "text": [
      "2022-01-11 18:44:22.434025: I tensorflow/core/platform/cpu_feature_guard.cc:142] This TensorFlow binary is optimized with oneAPI Deep Neural Network Library (oneDNN) to use the following CPU instructions in performance-critical operations:  AVX2 FMA\n",
      "To enable them in other operations, rebuild TensorFlow with the appropriate compiler flags.\n",
      "2022-01-11 18:44:22.434267: I tensorflow/compiler/jit/xla_gpu_device.cc:99] Not creating XLA devices, tf_xla_enable_xla_devices not set\n",
      "2022-01-11 18:44:22.434418: I tensorflow/stream_executor/cuda/cuda_gpu_executor.cc:941] successful NUMA node read from SysFS had negative value (-1), but there must be at least one NUMA node, so returning NUMA node zero\n",
      "2022-01-11 18:44:22.434901: I tensorflow/core/common_runtime/gpu/gpu_device.cc:1720] Found device 0 with properties: \n",
      "pciBusID: 0000:01:00.0 name: GeForce GTX 1080 Ti computeCapability: 6.1\n",
      "coreClock: 1.582GHz coreCount: 28 deviceMemorySize: 10.91GiB deviceMemoryBandwidth: 451.17GiB/s\n",
      "2022-01-11 18:44:22.434928: I tensorflow/stream_executor/platform/default/dso_loader.cc:49] Successfully opened dynamic library libcudart.so.11.0\n",
      "2022-01-11 18:44:22.434967: I tensorflow/stream_executor/platform/default/dso_loader.cc:49] Successfully opened dynamic library libcublas.so.11\n",
      "2022-01-11 18:44:22.434984: I tensorflow/stream_executor/platform/default/dso_loader.cc:49] Successfully opened dynamic library libcublasLt.so.11\n",
      "2022-01-11 18:44:22.434997: I tensorflow/stream_executor/platform/default/dso_loader.cc:49] Successfully opened dynamic library libcufft.so.10\n",
      "2022-01-11 18:44:22.435011: I tensorflow/stream_executor/platform/default/dso_loader.cc:49] Successfully opened dynamic library libcurand.so.10\n",
      "2022-01-11 18:44:22.435025: I tensorflow/stream_executor/platform/default/dso_loader.cc:49] Successfully opened dynamic library libcusolver.so.10\n",
      "2022-01-11 18:44:22.435039: I tensorflow/stream_executor/platform/default/dso_loader.cc:49] Successfully opened dynamic library libcusparse.so.11\n",
      "2022-01-11 18:44:22.435053: I tensorflow/stream_executor/platform/default/dso_loader.cc:49] Successfully opened dynamic library libcudnn.so.8\n",
      "2022-01-11 18:44:22.435127: I tensorflow/stream_executor/cuda/cuda_gpu_executor.cc:941] successful NUMA node read from SysFS had negative value (-1), but there must be at least one NUMA node, so returning NUMA node zero\n",
      "2022-01-11 18:44:22.435604: I tensorflow/stream_executor/cuda/cuda_gpu_executor.cc:941] successful NUMA node read from SysFS had negative value (-1), but there must be at least one NUMA node, so returning NUMA node zero\n",
      "2022-01-11 18:44:22.436026: I tensorflow/core/common_runtime/gpu/gpu_device.cc:1862] Adding visible gpu devices: 0\n",
      "2022-01-11 18:44:22.436052: I tensorflow/stream_executor/platform/default/dso_loader.cc:49] Successfully opened dynamic library libcudart.so.11.0\n",
      "2022-01-11 18:44:22.881523: I tensorflow/core/common_runtime/gpu/gpu_device.cc:1261] Device interconnect StreamExecutor with strength 1 edge matrix:\n",
      "2022-01-11 18:44:22.881542: I tensorflow/core/common_runtime/gpu/gpu_device.cc:1267]      0 \n",
      "2022-01-11 18:44:22.881547: I tensorflow/core/common_runtime/gpu/gpu_device.cc:1280] 0:   N \n",
      "2022-01-11 18:44:22.881701: I tensorflow/stream_executor/cuda/cuda_gpu_executor.cc:941] successful NUMA node read from SysFS had negative value (-1), but there must be at least one NUMA node, so returning NUMA node zero\n",
      "2022-01-11 18:44:22.882100: I tensorflow/stream_executor/cuda/cuda_gpu_executor.cc:941] successful NUMA node read from SysFS had negative value (-1), but there must be at least one NUMA node, so returning NUMA node zero\n",
      "2022-01-11 18:44:22.882438: I tensorflow/stream_executor/cuda/cuda_gpu_executor.cc:941] successful NUMA node read from SysFS had negative value (-1), but there must be at least one NUMA node, so returning NUMA node zero\n",
      "2022-01-11 18:44:22.882754: I tensorflow/core/common_runtime/gpu/gpu_device.cc:1406] Created TensorFlow device (/job:localhost/replica:0/task:0/device:GPU:0 with 10142 MB memory) -> physical GPU (device: 0, name: GeForce GTX 1080 Ti, pci bus id: 0000:01:00.0, compute capability: 6.1)\n"
     ]
    }
   ],
   "source": [
    "#Models\n",
    "\n",
    "vgg16 = keras.models.load_model(\"Models/vgg16_1.h5\")\n",
    "vgg19 = keras.models.load_model(\"Models/vgg19.h5\")\n",
    "dense_169 = keras.models.load_model(\"Models/dense-169.h5\")\n",
    "dense_201 = keras.models.load_model(\"Models/dense-201.h5\")\n",
    "resnet_50 = keras.models.load_model(\"Models/resnet-50.h5\")\n",
    "resnet_152 = keras.models.load_model(\"Models/resnet-152.h5\")\n",
    "effB3 = keras.models.load_model(\"Models/efficientB3_1.h5\")"
   ]
  },
  {
   "cell_type": "code",
   "execution_count": 12,
   "id": "05fb85a6",
   "metadata": {},
   "outputs": [],
   "source": [
    "def predict(models):\n",
    "    pred_labels = []\n",
    "    for model in models:\n",
    "        test_datagen = ImageDataGenerator(rescale=1./255)\n",
    "        data = None\n",
    "        if model == effB3:\n",
    "            data = test_datagen.flow_from_dataframe(dataframe = test,\n",
    "              x_col=\"images\", class_mode=None, \n",
    "              batch_size=8, target_size=(300,300), shuffle=False)\n",
    "        else:\n",
    "            data = test_datagen.flow_from_dataframe(dataframe = test,\n",
    "              x_col=\"images\", class_mode=None, \n",
    "              batch_size=8, target_size=(224,224), shuffle=False)\n",
    "            \n",
    "        prediction = model.predict_generator(data, max_queue_size=64, workers = 32, verbose=1)\n",
    "        labels = []\n",
    "        for _ in prediction:\n",
    "            predict = np.array(_)\n",
    "            label = np.zeros(_.shape)\n",
    "            label.itemset(np.argmax(predict), 1)\n",
    "            labels.append(label)\n",
    "        pred_labels.append(labels)\n",
    "    \n",
    "    return np.array(pred_labels)\n",
    "        "
   ]
  },
  {
   "cell_type": "code",
   "execution_count": 13,
   "id": "2475a24f",
   "metadata": {},
   "outputs": [
    {
     "name": "stdout",
     "output_type": "stream",
     "text": [
      "Found 9938 validated image filenames.\n"
     ]
    },
    {
     "name": "stderr",
     "output_type": "stream",
     "text": [
      "/home/deeplab/anaconda3/envs/tensorflow/lib/python3.8/site-packages/tensorflow/python/keras/engine/training.py:1905: UserWarning: `Model.predict_generator` is deprecated and will be removed in a future version. Please use `Model.predict`, which supports generators.\n",
      "  warnings.warn('`Model.predict_generator` is deprecated and '\n",
      "2022-01-11 18:44:36.190761: I tensorflow/compiler/mlir/mlir_graph_optimization_pass.cc:116] None of the MLIR optimization passes are enabled (registered 2)\n",
      "2022-01-11 18:44:36.210055: I tensorflow/core/platform/profile_utils/cpu_utils.cc:112] CPU Frequency: 4200000000 Hz\n",
      "2022-01-11 18:44:36.304550: I tensorflow/stream_executor/platform/default/dso_loader.cc:49] Successfully opened dynamic library libcublas.so.11\n",
      "2022-01-11 18:44:36.494123: I tensorflow/stream_executor/platform/default/dso_loader.cc:49] Successfully opened dynamic library libcublasLt.so.11\n",
      "2022-01-11 18:44:38.442046: I tensorflow/stream_executor/platform/default/dso_loader.cc:49] Successfully opened dynamic library libcudnn.so.8\n"
     ]
    },
    {
     "name": "stdout",
     "output_type": "stream",
     "text": [
      "1243/1243 [==============================] - 118s 91ms/step\n",
      "Found 9938 validated image filenames.\n",
      "1243/1243 [==============================] - 115s 91ms/step\n",
      "Found 9938 validated image filenames.\n",
      "1243/1243 [==============================] - 119s 92ms/step\n",
      "Found 9938 validated image filenames.\n",
      "1243/1243 [==============================] - 119s 93ms/step\n",
      "Found 9938 validated image filenames.\n",
      "1243/1243 [==============================] - 116s 91ms/step\n",
      "Found 9938 validated image filenames.\n",
      "1243/1243 [==============================] - 116s 90ms/step\n",
      "Found 9938 validated image filenames.\n",
      "1243/1243 [==============================] - 116s 90ms/step\n",
      "(7, 9938, 9)\n"
     ]
    }
   ],
   "source": [
    "models = [vgg16, vgg19, dense_169, dense_201, resnet_50, resnet_152, effB3]\n",
    "pred_labels = predict(models)\n",
    "print(pred_labels.shape)"
   ]
  },
  {
   "cell_type": "code",
   "execution_count": 14,
   "id": "9820955b",
   "metadata": {},
   "outputs": [
    {
     "data": {
      "text/plain": [
       "(9938, 9)"
      ]
     },
     "execution_count": 14,
     "metadata": {},
     "output_type": "execute_result"
    }
   ],
   "source": [
    "ensemble_pred_labels = np.mean(pred_labels, axis=0)\n",
    "ensemble_pred_labels.shape"
   ]
  },
  {
   "cell_type": "code",
   "execution_count": 15,
   "id": "08592586",
   "metadata": {},
   "outputs": [
    {
     "data": {
      "text/plain": [
       "(9938,)"
      ]
     },
     "execution_count": 15,
     "metadata": {},
     "output_type": "execute_result"
    }
   ],
   "source": [
    "ensemble_cls_pred = np.argmax(ensemble_pred_labels, axis=1)\n",
    "ensemble_cls_pred.shape"
   ]
  },
  {
   "cell_type": "code",
   "execution_count": 16,
   "id": "e48304a4",
   "metadata": {},
   "outputs": [],
   "source": [
    "ensemble_correct = []\n",
    "for i in range(test.iloc[:, 1::].shape[0]):\n",
    "    actual = np.argmax(test.iloc[i, 1::])\n",
    "    ensemble_correct.append(actual == ensemble_cls_pred[i])\n",
    "\n",
    "ensemble_incorrect = np.logical_not(ensemble_correct)"
   ]
  },
  {
   "cell_type": "code",
   "execution_count": 17,
   "id": "875b93e4",
   "metadata": {},
   "outputs": [
    {
     "name": "stdout",
     "output_type": "stream",
     "text": [
      "1243/1243 [==============================] - 355s 286ms/step - loss: 0.2352 - accuracy: 0.9467\n",
      "evaluate accuracy: 94.67%\n"
     ]
    },
    {
     "name": "stderr",
     "output_type": "stream",
     "text": [
      "/home/deeplab/anaconda3/envs/tensorflow/lib/python3.8/site-packages/tensorflow/python/keras/engine/training.py:1877: UserWarning: `Model.evaluate_generator` is deprecated and will be removed in a future version. Please use `Model.evaluate`, which supports generators.\n",
      "  warnings.warn('`Model.evaluate_generator` is deprecated and '\n"
     ]
    },
    {
     "name": "stdout",
     "output_type": "stream",
     "text": [
      "evaluate_generator accuracy: 94.67%\n"
     ]
    }
   ],
   "source": [
    "#Evaluate\n",
    "\n",
    "scores_vgg16 = vgg16.evaluate(test_generator)\n",
    "print(\"%s%s: %.2f%%\" % (\"evaluate \",vgg16.metrics_names[1], scores_vgg16[1]*100))\n",
    "\n",
    "scores_vgg16_gen = vgg16.evaluate_generator(test_generator)\n",
    "print(\"%s%s: %.2f%%\" % (\"evaluate_generator \",vgg16.metrics_names[1], scores_vgg16_gen[1]*100))"
   ]
  },
  {
   "cell_type": "code",
   "execution_count": 18,
   "id": "71ed6f6d",
   "metadata": {},
   "outputs": [
    {
     "name": "stdout",
     "output_type": "stream",
     "text": [
      "1243/1243 [==============================] - 333s 268ms/step - loss: 0.3043 - accuracy: 0.9417\n",
      "evaluate accuracy: 94.17%\n",
      "evaluate_generator accuracy: 94.17%\n"
     ]
    }
   ],
   "source": [
    "#Evaluate\n",
    "\n",
    "scores_vgg19 = vgg19.evaluate(test_generator)\n",
    "print(\"%s%s: %.2f%%\" % (\"evaluate \",vgg19.metrics_names[1], scores_vgg19[1]*100))\n",
    "\n",
    "scores_vgg19_gen = vgg19.evaluate_generator(test_generator)\n",
    "print(\"%s%s: %.2f%%\" % (\"evaluate_generator \",vgg19.metrics_names[1], scores_vgg19_gen[1]*100))"
   ]
  },
  {
   "cell_type": "code",
   "execution_count": 19,
   "id": "750b11dc",
   "metadata": {},
   "outputs": [
    {
     "name": "stdout",
     "output_type": "stream",
     "text": [
      "1243/1243 [==============================] - 350s 281ms/step - loss: 0.2730 - accuracy: 0.9288\n",
      "evaluate accuracy: 92.88%\n",
      "evaluate_generator accuracy: 92.88%\n"
     ]
    }
   ],
   "source": [
    "#Evaluate\n",
    "\n",
    "scores_dense169 = dense_169.evaluate(test_generator)\n",
    "print(\"%s%s: %.2f%%\" % (\"evaluate \",dense_169.metrics_names[1], scores_dense169[1]*100))\n",
    "\n",
    "scores_dense169_gen = dense_169.evaluate_generator(test_generator)\n",
    "print(\"%s%s: %.2f%%\" % (\"evaluate_generator \",dense_169.metrics_names[1], scores_dense169_gen[1]*100))"
   ]
  },
  {
   "cell_type": "code",
   "execution_count": 20,
   "id": "c25a2c6c",
   "metadata": {},
   "outputs": [
    {
     "name": "stdout",
     "output_type": "stream",
     "text": [
      "1243/1243 [==============================] - 352s 282ms/step - loss: 0.3105 - accuracy: 0.9175\n",
      "evaluate accuracy: 91.75%\n",
      "evaluate_generator accuracy: 91.75%\n"
     ]
    }
   ],
   "source": [
    "#Evaluate\n",
    "\n",
    "scores_dense201 = dense_201.evaluate(test_generator)\n",
    "print(\"%s%s: %.2f%%\" % (\"evaluate \",dense_201.metrics_names[1], scores_dense201[1]*100))\n",
    "\n",
    "scores_dense201_gen = dense_201.evaluate_generator(test_generator)\n",
    "print(\"%s%s: %.2f%%\" % (\"evaluate_generator \",dense_201.metrics_names[1], scores_dense201_gen[1]*100))"
   ]
  },
  {
   "cell_type": "code",
   "execution_count": 21,
   "id": "b5bc7c1c",
   "metadata": {},
   "outputs": [
    {
     "name": "stdout",
     "output_type": "stream",
     "text": [
      "1243/1243 [==============================] - 352s 283ms/step - loss: 0.2334 - accuracy: 0.9492\n",
      "evaluate accuracy: 94.92%\n",
      "evaluate_generator accuracy: 94.92%\n"
     ]
    }
   ],
   "source": [
    "#Evaluate\n",
    "\n",
    "scores_resnet50 = resnet_50.evaluate(test_generator)\n",
    "print(\"%s%s: %.2f%%\" % (\"evaluate \",resnet_50.metrics_names[1], scores_resnet50[1]*100))\n",
    "\n",
    "scores_resnet50_gen = resnet_50.evaluate_generator(test_generator)\n",
    "print(\"%s%s: %.2f%%\" % (\"evaluate_generator \",resnet_50.metrics_names[1], scores_resnet50_gen[1]*100))"
   ]
  },
  {
   "cell_type": "code",
   "execution_count": 22,
   "id": "876a77e4",
   "metadata": {
    "scrolled": true
   },
   "outputs": [
    {
     "name": "stdout",
     "output_type": "stream",
     "text": [
      "1243/1243 [==============================] - 357s 286ms/step - loss: 0.2857 - accuracy: 0.9463\n",
      "evaluate accuracy: 94.63%\n",
      "evaluate_generator accuracy: 94.63%\n"
     ]
    }
   ],
   "source": [
    "#Evaluate\n",
    "\n",
    "scores_resnet152 = resnet_152.evaluate(test_generator)\n",
    "print(\"%s%s: %.2f%%\" % (\"evaluate \",resnet_152.metrics_names[1], scores_resnet152[1]*100))\n",
    "\n",
    "scores_resnet152_gen = resnet_152.evaluate_generator(test_generator)\n",
    "print(\"%s%s: %.2f%%\" % (\"evaluate_generator \",resnet_152.metrics_names[1], scores_resnet152_gen[1]*100))"
   ]
  },
  {
   "cell_type": "code",
   "execution_count": 23,
   "id": "762c220e",
   "metadata": {},
   "outputs": [
    {
     "name": "stdout",
     "output_type": "stream",
     "text": [
      "1243/1243 [==============================] - 364s 292ms/step - loss: 0.2395 - accuracy: 0.9415\n",
      "evaluate accuracy: 94.15%\n",
      "evaluate_generator accuracy: 94.15%\n"
     ]
    }
   ],
   "source": [
    "#Evaluate\n",
    "\n",
    "scores_effB3 = effB3.evaluate(test_generator_effB3)\n",
    "print(\"%s%s: %.2f%%\" % (\"evaluate \",effB3.metrics_names[1], scores_effB3[1]*100))\n",
    "\n",
    "scores_effB3_gen = effB3.evaluate_generator(test_generator_effB3)\n",
    "print(\"%s%s: %.2f%%\" % (\"evaluate_generator \",effB3.metrics_names[1], scores_effB3_gen[1]*100))"
   ]
  },
  {
   "cell_type": "code",
   "execution_count": 31,
   "id": "2c09a044",
   "metadata": {},
   "outputs": [],
   "source": [
    "test_accuracies = [\n",
    "    scores_vgg16[1], scores_vgg19[1], \n",
    "    scores_dense169[1], scores_dense201[1], \n",
    "    scores_resnet50[1], scores_resnet152[1], \n",
    "    scores_effB3[1]]"
   ]
  },
  {
   "cell_type": "code",
   "execution_count": 46,
   "id": "35d92de4",
   "metadata": {},
   "outputs": [
    {
     "data": {
      "text/plain": [
       "0.9388063209397453"
      ]
     },
     "execution_count": 46,
     "metadata": {},
     "output_type": "execute_result"
    }
   ],
   "source": [
    "#Average Ensemble Accuracy\n",
    "np.mean(test_accuracies)"
   ]
  },
  {
   "cell_type": "code",
   "execution_count": 33,
   "id": "8de01687",
   "metadata": {},
   "outputs": [
    {
     "data": {
      "text/plain": [
       "4"
      ]
     },
     "execution_count": 33,
     "metadata": {},
     "output_type": "execute_result"
    }
   ],
   "source": [
    "best_net = np.argmax(test_accuracies)\n",
    "best_net"
   ]
  },
  {
   "cell_type": "code",
   "execution_count": 34,
   "id": "0241d895",
   "metadata": {
    "scrolled": false
   },
   "outputs": [
    {
     "data": {
      "text/plain": [
       "0.9491849541664124"
      ]
     },
     "execution_count": 34,
     "metadata": {},
     "output_type": "execute_result"
    }
   ],
   "source": [
    "test_accuracies[best_net]"
   ]
  },
  {
   "cell_type": "code",
   "execution_count": 35,
   "id": "42235611",
   "metadata": {},
   "outputs": [],
   "source": [
    "best_net_pred_labels = pred_labels[best_net, :, :]"
   ]
  },
  {
   "cell_type": "code",
   "execution_count": 36,
   "id": "c3623514",
   "metadata": {},
   "outputs": [],
   "source": [
    "best_net_cls_pred = np.argmax(best_net_pred_labels, axis=1)"
   ]
  },
  {
   "cell_type": "code",
   "execution_count": 37,
   "id": "c3925343",
   "metadata": {},
   "outputs": [
    {
     "data": {
      "text/plain": [
       "array([5, 8, 8, ..., 8, 8, 8])"
      ]
     },
     "execution_count": 37,
     "metadata": {},
     "output_type": "execute_result"
    }
   ],
   "source": [
    "best_net_cls_pred"
   ]
  },
  {
   "cell_type": "code",
   "execution_count": 38,
   "id": "5bb7bdc5",
   "metadata": {},
   "outputs": [],
   "source": [
    "best_net_correct = []\n",
    "for i in range(test.iloc[:, 1::].shape[0]):\n",
    "    actual = np.argmax(test.iloc[i, 1::])\n",
    "    best_net_correct.append(actual == best_net_cls_pred[i])\n",
    "\n",
    "best_net_incorrect = np.logical_not(best_net_correct)"
   ]
  },
  {
   "cell_type": "code",
   "execution_count": 39,
   "id": "e220ecfd",
   "metadata": {},
   "outputs": [
    {
     "data": {
      "text/plain": [
       "9425"
      ]
     },
     "execution_count": 39,
     "metadata": {},
     "output_type": "execute_result"
    }
   ],
   "source": [
    "np.sum(ensemble_correct)"
   ]
  },
  {
   "cell_type": "code",
   "execution_count": 40,
   "id": "04c4ff29",
   "metadata": {},
   "outputs": [
    {
     "data": {
      "text/plain": [
       "9433"
      ]
     },
     "execution_count": 40,
     "metadata": {},
     "output_type": "execute_result"
    }
   ],
   "source": [
    "np.sum(best_net_correct)"
   ]
  },
  {
   "cell_type": "code",
   "execution_count": 41,
   "id": "69e338c4",
   "metadata": {},
   "outputs": [
    {
     "data": {
      "text/plain": [
       "array([False, False, False, ..., False, False, False])"
      ]
     },
     "execution_count": 41,
     "metadata": {},
     "output_type": "execute_result"
    }
   ],
   "source": [
    "# Topluluğun doğru bulup, en iyi modelin yanlış buldukları\n",
    "ensemble_better = np.logical_and(best_net_incorrect,\n",
    "                                 ensemble_correct)\n",
    "ensemble_better"
   ]
  },
  {
   "cell_type": "code",
   "execution_count": 42,
   "id": "699c73d9",
   "metadata": {},
   "outputs": [
    {
     "data": {
      "text/plain": [
       "25"
      ]
     },
     "execution_count": 42,
     "metadata": {},
     "output_type": "execute_result"
    }
   ],
   "source": [
    "ensemble_better.sum()"
   ]
  },
  {
   "cell_type": "code",
   "execution_count": 43,
   "id": "d2550ea8",
   "metadata": {},
   "outputs": [],
   "source": [
    "# En iyi modelin doğru bulup, topluluğun yanlış buldukları\n",
    "best_net_better = np.logical_and(best_net_correct,\n",
    "                                 ensemble_incorrect)"
   ]
  },
  {
   "cell_type": "code",
   "execution_count": 44,
   "id": "8afbea71",
   "metadata": {},
   "outputs": [
    {
     "data": {
      "text/plain": [
       "33"
      ]
     },
     "execution_count": 44,
     "metadata": {},
     "output_type": "execute_result"
    }
   ],
   "source": [
    "best_net_better.sum()"
   ]
  }
 ],
 "metadata": {
  "kernelspec": {
   "display_name": "Python 3 (ipykernel)",
   "language": "python",
   "name": "python3"
  },
  "language_info": {
   "codemirror_mode": {
    "name": "ipython",
    "version": 3
   },
   "file_extension": ".py",
   "mimetype": "text/x-python",
   "name": "python",
   "nbconvert_exporter": "python",
   "pygments_lexer": "ipython3",
   "version": "3.8.12"
  }
 },
 "nbformat": 4,
 "nbformat_minor": 5
}
